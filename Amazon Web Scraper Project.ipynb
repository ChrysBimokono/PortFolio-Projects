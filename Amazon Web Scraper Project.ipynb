{
 "cells": [
  {
   "cell_type": "code",
   "execution_count": 1,
   "metadata": {},
   "outputs": [],
   "source": [
    "#pip install beautifulsoup4"
   ]
  },
  {
   "cell_type": "code",
   "execution_count": 40,
   "metadata": {},
   "outputs": [],
   "source": [
    "# import libraries\n",
    "\n",
    "from bs4 import BeautifulSoup\n",
    "import requests\n",
    "import smtplib\n",
    "import time\n",
    "import datetime"
   ]
  },
  {
   "cell_type": "code",
   "execution_count": 23,
   "metadata": {},
   "outputs": [
    {
     "name": "stdout",
     "output_type": "stream",
     "text": [
      "\n",
      "     Bible Verse Art Wall Decor Isaiah 41:10 Do Not Fear Scripture Canvas Painting Prints for Home Dining Room Living Room Wall Decor Framed Artwork Christian Gifts(12x15 Inch)\n",
      "    \n",
      "\n",
      "        $19.99\n",
      "       \n"
     ]
    }
   ],
   "source": [
    "# Connect ton the website\n",
    "\n",
    "\n",
    "URL='https://www.amazon.com/Bible-Verse-Wall-Decor-Isaiah/dp/B099YZTBBZ/ref=pd_sbs_3/176-6368854-6620734?pd_rd_w=KATV1&pf_rd_p=3676f086-9496-4fd7-8490-77cf7f43f846&pf_rd_r=0Q065V5KGQFPMP9QZ6P7&pd_rd_r=94352083-05f4-42a7-9432-090d770e7548&pd_rd_wg=VEnMc&pd_rd_i=B099YZTBBZ&psc=1'\n",
    "headers= {\"User-Agent\": \"Mozilla/5.0 (Windows NT 6.3; Win64; x64) AppleWebKit/537.36 (KHTML, like Gecko) Chrome/92.0.4515.159 Safari/537.36\"}\n",
    "\n",
    "page= requests.get(URL, headers= headers)\n",
    "\n",
    "Soup1= BeautifulSoup(page.content, \"html.parser\")\n",
    "\n",
    "Soup2= BeautifulSoup(Soup1.prettify(), \"html.parser\")\n",
    "\n",
    "title= Soup2.find(id='productTitle').get_text()\n",
    "\n",
    "price= Soup2.find(id='priceblock_ourprice').get_text()\n",
    "#print(Soup2)\n",
    "print(title)\n",
    "print(price)\n"
   ]
  },
  {
   "cell_type": "code",
   "execution_count": 24,
   "metadata": {},
   "outputs": [
    {
     "name": "stdout",
     "output_type": "stream",
     "text": [
      "Bible Verse Art Wall Decor Isaiah 41:10 Do Not Fear Scripture Canvas\n",
      "19.99\n"
     ]
    }
   ],
   "source": [
    "# Formatting our script\n",
    "\n",
    "price= price.strip()[1:]\n",
    "title= title.strip()[:68]\n",
    "\n",
    "print(title)\n",
    "print(price)"
   ]
  },
  {
   "cell_type": "code",
   "execution_count": 26,
   "metadata": {},
   "outputs": [
    {
     "name": "stdout",
     "output_type": "stream",
     "text": [
      "2021-09-09\n"
     ]
    }
   ],
   "source": [
    "\n",
    "# Adding in our datetime\n",
    "import pandas as pd\n",
    "\n",
    "today= datetime.date.today()\n",
    "print(today)"
   ]
  },
  {
   "cell_type": "code",
   "execution_count": 42,
   "metadata": {},
   "outputs": [],
   "source": [
    "#Creating our CSV file with Data\n",
    "\n",
    "import csv\n",
    "\n",
    "header= ['Title', 'Price','Date']\n",
    "data= [title,price,today]\n",
    "\n",
    "with open ('AmazonWebScraperData.csv', 'w', newline='',encoding= 'UTF-8') as f:\n",
    "    writer= csv.writer(f)\n",
    "    writer.writerow(header)\n",
    "    writer.writerow(data)"
   ]
  },
  {
   "cell_type": "code",
   "execution_count": 45,
   "metadata": {},
   "outputs": [
    {
     "name": "stdout",
     "output_type": "stream",
     "text": [
      "                                               Title  Price        Date\n",
      "0  Bible Verse Art Wall Decor Isaiah 41:10 Do Not...  19.99  2021-09-09\n",
      "1  Bible Verse Art Wall Decor Isaiah 41:10 Do Not...  19.99  2021-09-09\n"
     ]
    }
   ],
   "source": [
    "#Let us read the Csv we created\n",
    "\n",
    "df= pd.read_csv(r'AmazonWebScraperData.csv')\n",
    "print(df)"
   ]
  },
  {
   "cell_type": "code",
   "execution_count": 44,
   "metadata": {},
   "outputs": [],
   "source": [
    "# Now we are appending data to the csv\n",
    "\n",
    "\n",
    "with open ('AmazonWebScraperData.csv', 'a+', newline='',encoding= 'UTF-8') as f:\n",
    "    writer= csv.writer(f)\n",
    "    writer.writerow(data)"
   ]
  },
  {
   "cell_type": "code",
   "execution_count": 46,
   "metadata": {},
   "outputs": [],
   "source": [
    "def check_price():\n",
    "    \n",
    "    URL='https://www.amazon.com/Bible-Verse-Wall-Decor-Isaiah/dp/B099YZTBBZ/ref=pd_sbs_3/176-6368854-6620734?pd_rd_w=KATV1&pf_rd_p=3676f086-9496-4fd7-8490-77cf7f43f846&pf_rd_r=0Q065V5KGQFPMP9QZ6P7&pd_rd_r=94352083-05f4-42a7-9432-090d770e7548&pd_rd_wg=VEnMc&pd_rd_i=B099YZTBBZ&psc=1'\n",
    "    headers= {\"User-Agent\": \"Mozilla/5.0 (Windows NT 6.3; Win64; x64) AppleWebKit/537.36 (KHTML, like Gecko) Chrome/92.0.4515.159 Safari/537.36\"}\n",
    "\n",
    "    page= requests.get(URL, headers= headers)\n",
    "\n",
    "    Soup1= BeautifulSoup(page.content, \"html.parser\")\n",
    "\n",
    "    Soup2= BeautifulSoup(Soup1.prettify(), \"html.parser\")\n",
    "\n",
    "    title= Soup2.find(id='productTitle').get_text()\n",
    "\n",
    "    price= Soup2.find(id='priceblock_ourprice').get_text()\n",
    "    \n",
    "#formatting our scrapped data\n",
    "    price= price.strip()[1:]\n",
    "    title= title.strip()[:68]\n",
    "    \n",
    "# Adding in the date \n",
    "    import datetime\n",
    "    today= datetime.date.today()\n",
    "    \n",
    "# Then Creating our csv file to export\n",
    "    import csv\n",
    "\n",
    "    header= ['Title', 'Price','Date']\n",
    "    data= [title,price,today]\n",
    "\n",
    "    with open ('AmazonWebScraperData.csv', 'a+', newline='',encoding= 'UTF-8') as f:\n",
    "        writer= csv.writer(f)\n",
    "        writer.writerow(data)\n"
   ]
  },
  {
   "cell_type": "code",
   "execution_count": null,
   "metadata": {},
   "outputs": [],
   "source": [
    "# Now we automate our function\n",
    "\n",
    "while(True):\n",
    "    check_price()\n",
    "    time.sleep(5)"
   ]
  },
  {
   "cell_type": "code",
   "execution_count": 38,
   "metadata": {},
   "outputs": [
    {
     "name": "stdout",
     "output_type": "stream",
     "text": [
      "                                               Title  Price        Date\n",
      "0  Bible Verse Art Wall Decor Isaiah 41:10 Do Not...  19.99  2021-09-09\n",
      "1  Bible Verse Art Wall Decor Isaiah 41:10 Do Not...  19.99  2021-09-09\n"
     ]
    }
   ],
   "source": [
    "df= pd.read_csv(r'AmazonWebScraperData.csv')\n",
    "print(df)"
   ]
  },
  {
   "cell_type": "code",
   "execution_count": null,
   "metadata": {},
   "outputs": [],
   "source": []
  }
 ],
 "metadata": {
  "kernelspec": {
   "display_name": "Python 3",
   "language": "python",
   "name": "python3"
  },
  "language_info": {
   "codemirror_mode": {
    "name": "ipython",
    "version": 3
   },
   "file_extension": ".py",
   "mimetype": "text/x-python",
   "name": "python",
   "nbconvert_exporter": "python",
   "pygments_lexer": "ipython3",
   "version": "3.8.3"
  }
 },
 "nbformat": 4,
 "nbformat_minor": 4
}
